{
  "cells": [
    {
      "cell_type": "code",
      "execution_count": 37,
      "metadata": {
        "colab": {
          "base_uri": "https://localhost:8080/"
        },
        "id": "7ZQb2mU08OG5",
        "outputId": "16539964-23e7-4b12-8747-ff1afd9a0777"
      },
      "outputs": [
        {
          "name": "stdout",
          "output_type": "stream",
          "text": [
            "Drive already mounted at /content/drive; to attempt to forcibly remount, call drive.mount(\"/content/drive\", force_remount=True).\n"
          ]
        }
      ],
      "source": [
        "from google.colab import drive\n",
        "drive.mount('/content/drive')"
      ]
    },
    {
      "cell_type": "markdown",
      "metadata": {
        "id": "r1TWxwhTJJ9N"
      },
      "source": [
        "## Install packages"
      ]
    },
    {
      "cell_type": "code",
      "execution_count": 38,
      "metadata": {
        "id": "cJmGLFuZIwWp"
      },
      "outputs": [],
      "source": [
        "!pip -qq install langchain langchain_community langchain_pinecone"
      ]
    },
    {
      "cell_type": "code",
      "execution_count": 39,
      "metadata": {
        "id": "c1Osp2c_JkqB"
      },
      "outputs": [],
      "source": [
        "!pip -qq install langchain_openai"
      ]
    },
    {
      "cell_type": "code",
      "execution_count": 40,
      "metadata": {
        "id": "J8_DFxumJozH"
      },
      "outputs": [],
      "source": [
        "!pip -qq install python-docx pypdf PyPDF2"
      ]
    },
    {
      "cell_type": "code",
      "execution_count": 41,
      "metadata": {
        "colab": {
          "base_uri": "https://localhost:8080/"
        },
        "id": "lrd6K_4s40Ym",
        "outputId": "e6c24444-d182-4617-9e9e-25ce64a43d79"
      },
      "outputs": [
        {
          "name": "stdout",
          "output_type": "stream",
          "text": [
            "Collecting git+https://github.com/Cerebras/cerebras-cloud-sdk-python\n",
            "  Cloning https://github.com/Cerebras/cerebras-cloud-sdk-python to /tmp/pip-req-build-d5az4p19\n",
            "  Running command git clone --filter=blob:none --quiet https://github.com/Cerebras/cerebras-cloud-sdk-python /tmp/pip-req-build-d5az4p19\n",
            "  Resolved https://github.com/Cerebras/cerebras-cloud-sdk-python to commit a7948475e17636dcaa9d95ceb04109b7d93f3283\n",
            "  Installing build dependencies ... \u001b[?25l\u001b[?25hdone\n",
            "  Getting requirements to build wheel ... \u001b[?25l\u001b[?25hdone\n",
            "  Preparing metadata (pyproject.toml) ... \u001b[?25l\u001b[?25hdone\n",
            "Requirement already satisfied: anyio<5,>=3.5.0 in /usr/local/lib/python3.11/dist-packages (from cerebras_cloud_sdk==1.19.0) (3.7.1)\n",
            "Requirement already satisfied: distro<2,>=1.7.0 in /usr/local/lib/python3.11/dist-packages (from cerebras_cloud_sdk==1.19.0) (1.9.0)\n",
            "Requirement already satisfied: httpx<1,>=0.23.0 in /usr/local/lib/python3.11/dist-packages (from cerebras_cloud_sdk==1.19.0) (0.28.1)\n",
            "Requirement already satisfied: pydantic<3,>=1.9.0 in /usr/local/lib/python3.11/dist-packages (from cerebras_cloud_sdk==1.19.0) (2.10.6)\n",
            "Requirement already satisfied: sniffio in /usr/local/lib/python3.11/dist-packages (from cerebras_cloud_sdk==1.19.0) (1.3.1)\n",
            "Requirement already satisfied: typing-extensions<5,>=4.10 in /usr/local/lib/python3.11/dist-packages (from cerebras_cloud_sdk==1.19.0) (4.12.2)\n",
            "Requirement already satisfied: idna>=2.8 in /usr/local/lib/python3.11/dist-packages (from anyio<5,>=3.5.0->cerebras_cloud_sdk==1.19.0) (3.10)\n",
            "Requirement already satisfied: certifi in /usr/local/lib/python3.11/dist-packages (from httpx<1,>=0.23.0->cerebras_cloud_sdk==1.19.0) (2024.12.14)\n",
            "Requirement already satisfied: httpcore==1.* in /usr/local/lib/python3.11/dist-packages (from httpx<1,>=0.23.0->cerebras_cloud_sdk==1.19.0) (1.0.7)\n",
            "Requirement already satisfied: h11<0.15,>=0.13 in /usr/local/lib/python3.11/dist-packages (from httpcore==1.*->httpx<1,>=0.23.0->cerebras_cloud_sdk==1.19.0) (0.14.0)\n",
            "Requirement already satisfied: annotated-types>=0.6.0 in /usr/local/lib/python3.11/dist-packages (from pydantic<3,>=1.9.0->cerebras_cloud_sdk==1.19.0) (0.7.0)\n",
            "Requirement already satisfied: pydantic-core==2.27.2 in /usr/local/lib/python3.11/dist-packages (from pydantic<3,>=1.9.0->cerebras_cloud_sdk==1.19.0) (2.27.2)\n"
          ]
        }
      ],
      "source": [
        "pip install git+https://github.com/Cerebras/cerebras-cloud-sdk-python"
      ]
    },
    {
      "cell_type": "code",
      "execution_count": 42,
      "metadata": {
        "colab": {
          "base_uri": "https://localhost:8080/"
        },
        "id": "CRQnO4WZ40QL",
        "outputId": "d583efff-1711-44cd-8384-8262111c4d51"
      },
      "outputs": [
        {
          "name": "stdout",
          "output_type": "stream",
          "text": [
            "Requirement already satisfied: langchain-cerebras in /usr/local/lib/python3.11/dist-packages (0.5.0)\n",
            "Requirement already satisfied: langchain-core<0.4.0,>=0.3.29 in /usr/local/lib/python3.11/dist-packages (from langchain-cerebras) (0.3.33)\n",
            "Requirement already satisfied: langchain-openai<0.4.0,>=0.3.0 in /usr/local/lib/python3.11/dist-packages (from langchain-cerebras) (0.3.3)\n",
            "Requirement already satisfied: PyYAML>=5.3 in /usr/local/lib/python3.11/dist-packages (from langchain-core<0.4.0,>=0.3.29->langchain-cerebras) (6.0.2)\n",
            "Requirement already satisfied: jsonpatch<2.0,>=1.33 in /usr/local/lib/python3.11/dist-packages (from langchain-core<0.4.0,>=0.3.29->langchain-cerebras) (1.33)\n",
            "Requirement already satisfied: langsmith<0.4,>=0.1.125 in /usr/local/lib/python3.11/dist-packages (from langchain-core<0.4.0,>=0.3.29->langchain-cerebras) (0.3.2)\n",
            "Requirement already satisfied: packaging<25,>=23.2 in /usr/local/lib/python3.11/dist-packages (from langchain-core<0.4.0,>=0.3.29->langchain-cerebras) (24.2)\n",
            "Requirement already satisfied: pydantic<3.0.0,>=2.5.2 in /usr/local/lib/python3.11/dist-packages (from langchain-core<0.4.0,>=0.3.29->langchain-cerebras) (2.10.6)\n",
            "Requirement already satisfied: tenacity!=8.4.0,<10.0.0,>=8.1.0 in /usr/local/lib/python3.11/dist-packages (from langchain-core<0.4.0,>=0.3.29->langchain-cerebras) (9.0.0)\n",
            "Requirement already satisfied: typing-extensions>=4.7 in /usr/local/lib/python3.11/dist-packages (from langchain-core<0.4.0,>=0.3.29->langchain-cerebras) (4.12.2)\n",
            "Requirement already satisfied: openai<2.0.0,>=1.58.1 in /usr/local/lib/python3.11/dist-packages (from langchain-openai<0.4.0,>=0.3.0->langchain-cerebras) (1.61.1)\n",
            "Requirement already satisfied: tiktoken<1,>=0.7 in /usr/local/lib/python3.11/dist-packages (from langchain-openai<0.4.0,>=0.3.0->langchain-cerebras) (0.8.0)\n",
            "Requirement already satisfied: jsonpointer>=1.9 in /usr/local/lib/python3.11/dist-packages (from jsonpatch<2.0,>=1.33->langchain-core<0.4.0,>=0.3.29->langchain-cerebras) (3.0.0)\n",
            "Requirement already satisfied: httpx<1,>=0.23.0 in /usr/local/lib/python3.11/dist-packages (from langsmith<0.4,>=0.1.125->langchain-core<0.4.0,>=0.3.29->langchain-cerebras) (0.28.1)\n",
            "Requirement already satisfied: orjson<4.0.0,>=3.9.14 in /usr/local/lib/python3.11/dist-packages (from langsmith<0.4,>=0.1.125->langchain-core<0.4.0,>=0.3.29->langchain-cerebras) (3.10.15)\n",
            "Requirement already satisfied: requests<3,>=2 in /usr/local/lib/python3.11/dist-packages (from langsmith<0.4,>=0.1.125->langchain-core<0.4.0,>=0.3.29->langchain-cerebras) (2.32.3)\n",
            "Requirement already satisfied: requests-toolbelt<2.0.0,>=1.0.0 in /usr/local/lib/python3.11/dist-packages (from langsmith<0.4,>=0.1.125->langchain-core<0.4.0,>=0.3.29->langchain-cerebras) (1.0.0)\n",
            "Requirement already satisfied: zstandard<0.24.0,>=0.23.0 in /usr/local/lib/python3.11/dist-packages (from langsmith<0.4,>=0.1.125->langchain-core<0.4.0,>=0.3.29->langchain-cerebras) (0.23.0)\n",
            "Requirement already satisfied: anyio<5,>=3.5.0 in /usr/local/lib/python3.11/dist-packages (from openai<2.0.0,>=1.58.1->langchain-openai<0.4.0,>=0.3.0->langchain-cerebras) (3.7.1)\n",
            "Requirement already satisfied: distro<2,>=1.7.0 in /usr/local/lib/python3.11/dist-packages (from openai<2.0.0,>=1.58.1->langchain-openai<0.4.0,>=0.3.0->langchain-cerebras) (1.9.0)\n",
            "Requirement already satisfied: jiter<1,>=0.4.0 in /usr/local/lib/python3.11/dist-packages (from openai<2.0.0,>=1.58.1->langchain-openai<0.4.0,>=0.3.0->langchain-cerebras) (0.8.2)\n",
            "Requirement already satisfied: sniffio in /usr/local/lib/python3.11/dist-packages (from openai<2.0.0,>=1.58.1->langchain-openai<0.4.0,>=0.3.0->langchain-cerebras) (1.3.1)\n",
            "Requirement already satisfied: tqdm>4 in /usr/local/lib/python3.11/dist-packages (from openai<2.0.0,>=1.58.1->langchain-openai<0.4.0,>=0.3.0->langchain-cerebras) (4.67.1)\n",
            "Requirement already satisfied: annotated-types>=0.6.0 in /usr/local/lib/python3.11/dist-packages (from pydantic<3.0.0,>=2.5.2->langchain-core<0.4.0,>=0.3.29->langchain-cerebras) (0.7.0)\n",
            "Requirement already satisfied: pydantic-core==2.27.2 in /usr/local/lib/python3.11/dist-packages (from pydantic<3.0.0,>=2.5.2->langchain-core<0.4.0,>=0.3.29->langchain-cerebras) (2.27.2)\n",
            "Requirement already satisfied: regex>=2022.1.18 in /usr/local/lib/python3.11/dist-packages (from tiktoken<1,>=0.7->langchain-openai<0.4.0,>=0.3.0->langchain-cerebras) (2024.11.6)\n",
            "Requirement already satisfied: idna>=2.8 in /usr/local/lib/python3.11/dist-packages (from anyio<5,>=3.5.0->openai<2.0.0,>=1.58.1->langchain-openai<0.4.0,>=0.3.0->langchain-cerebras) (3.10)\n",
            "Requirement already satisfied: certifi in /usr/local/lib/python3.11/dist-packages (from httpx<1,>=0.23.0->langsmith<0.4,>=0.1.125->langchain-core<0.4.0,>=0.3.29->langchain-cerebras) (2024.12.14)\n",
            "Requirement already satisfied: httpcore==1.* in /usr/local/lib/python3.11/dist-packages (from httpx<1,>=0.23.0->langsmith<0.4,>=0.1.125->langchain-core<0.4.0,>=0.3.29->langchain-cerebras) (1.0.7)\n",
            "Requirement already satisfied: h11<0.15,>=0.13 in /usr/local/lib/python3.11/dist-packages (from httpcore==1.*->httpx<1,>=0.23.0->langsmith<0.4,>=0.1.125->langchain-core<0.4.0,>=0.3.29->langchain-cerebras) (0.14.0)\n",
            "Requirement already satisfied: charset-normalizer<4,>=2 in /usr/local/lib/python3.11/dist-packages (from requests<3,>=2->langsmith<0.4,>=0.1.125->langchain-core<0.4.0,>=0.3.29->langchain-cerebras) (3.4.1)\n",
            "Requirement already satisfied: urllib3<3,>=1.21.1 in /usr/local/lib/python3.11/dist-packages (from requests<3,>=2->langsmith<0.4,>=0.1.125->langchain-core<0.4.0,>=0.3.29->langchain-cerebras) (2.3.0)\n"
          ]
        }
      ],
      "source": [
        "pip install langchain-cerebras"
      ]
    },
    {
      "cell_type": "code",
      "execution_count": 43,
      "metadata": {
        "id": "ymj0YlExKr3g"
      },
      "outputs": [],
      "source": [
        "!pip -qq install sentence_transformers"
      ]
    },
    {
      "cell_type": "markdown",
      "metadata": {
        "id": "InZdBFpqJR8t"
      },
      "source": [
        "##import packages and pincone api key setting\n"
      ]
    },
    {
      "cell_type": "code",
      "execution_count": 44,
      "metadata": {
        "id": "F4Ck1blSJa7P"
      },
      "outputs": [],
      "source": [
        "from langchain.chains import RetrievalQA\n",
        "from langchain_community.embeddings import HuggingFaceEmbeddings\n",
        "from langchain_pinecone import PineconeEmbeddings\n",
        "from langchain_pinecone import PineconeVectorStore\n",
        "from langchain_community.document_loaders import PyPDFLoader\n",
        "from langchain.chains import RetrievalQA\n",
        "from langchain_openai import ChatOpenAI\n",
        "from langchain.text_splitter import RecursiveCharacterTextSplitter\n",
        "from PyPDF2 import PdfReader\n",
        "from docx import Document\n",
        "#from langchain-cerebras import Cerebras\n",
        "from langchain_cerebras import ChatCerebras\n",
        "import os\n",
        "\n",
        "os.environ[\"PINECONE_API_KEY\"] = \"apikey\"\n",
        "os.environ[\"OPENAI_API_KEY\"] = \"Apikey\"\n",
        "os.environ[\"CEREBRAS_API_KEY\"] = \"apikey\""
      ]
    },
    {
      "cell_type": "markdown",
      "metadata": {
        "id": "bPaIc2slJhdz"
      },
      "source": [
        "## sentence transformers to chunk the data by using model from huggingface"
      ]
    },
    {
      "cell_type": "code",
      "execution_count": 45,
      "metadata": {
        "id": "NhlHfMFYJ9az"
      },
      "outputs": [],
      "source": [
        "def load_data_from_book(book_path):\n",
        "    loader = PyPDFLoader(book_path)\n",
        "    data = loader.load()\n",
        "    return data\n",
        "\n",
        "#create chunks of text\n",
        "def split_text(extracted_data):\n",
        "    text_splitter = RecursiveCharacterTextSplitter(chunk_size=500, chunk_overlap=20)\n",
        "    text_chunks = text_splitter.split_documents(extracted_data)\n",
        "    return text_chunks\n",
        "\n",
        "#download embedding model\n",
        "def download_embedding_model():\n",
        "    embedding_model = HuggingFaceEmbeddings(model_name = \"sentence-transformers/all-MiniLM-L6-v2\")\n",
        "    return embedding_model"
      ]
    },
    {
      "cell_type": "markdown",
      "metadata": {
        "id": "v4uVbW7_TcOj"
      },
      "source": [
        "###Testing ones **bold text**"
      ]
    },
    {
      "cell_type": "code",
      "execution_count": 46,
      "metadata": {
        "colab": {
          "base_uri": "https://localhost:8080/"
        },
        "id": "C2kYZOvDWYSR",
        "outputId": "0e9cf239-0a79-41fc-b7d7-f045862d6088"
      },
      "outputs": [
        {
          "name": "stdout",
          "output_type": "stream",
          "text": [
            "Requirement already satisfied: openai in /usr/local/lib/python3.11/dist-packages (1.61.1)\n",
            "Requirement already satisfied: anyio<5,>=3.5.0 in /usr/local/lib/python3.11/dist-packages (from openai) (3.7.1)\n",
            "Requirement already satisfied: distro<2,>=1.7.0 in /usr/local/lib/python3.11/dist-packages (from openai) (1.9.0)\n",
            "Requirement already satisfied: httpx<1,>=0.23.0 in /usr/local/lib/python3.11/dist-packages (from openai) (0.28.1)\n",
            "Requirement already satisfied: jiter<1,>=0.4.0 in /usr/local/lib/python3.11/dist-packages (from openai) (0.8.2)\n",
            "Requirement already satisfied: pydantic<3,>=1.9.0 in /usr/local/lib/python3.11/dist-packages (from openai) (2.10.6)\n",
            "Requirement already satisfied: sniffio in /usr/local/lib/python3.11/dist-packages (from openai) (1.3.1)\n",
            "Requirement already satisfied: tqdm>4 in /usr/local/lib/python3.11/dist-packages (from openai) (4.67.1)\n",
            "Requirement already satisfied: typing-extensions<5,>=4.11 in /usr/local/lib/python3.11/dist-packages (from openai) (4.12.2)\n",
            "Requirement already satisfied: idna>=2.8 in /usr/local/lib/python3.11/dist-packages (from anyio<5,>=3.5.0->openai) (3.10)\n",
            "Requirement already satisfied: certifi in /usr/local/lib/python3.11/dist-packages (from httpx<1,>=0.23.0->openai) (2024.12.14)\n",
            "Requirement already satisfied: httpcore==1.* in /usr/local/lib/python3.11/dist-packages (from httpx<1,>=0.23.0->openai) (1.0.7)\n",
            "Requirement already satisfied: h11<0.15,>=0.13 in /usr/local/lib/python3.11/dist-packages (from httpcore==1.*->httpx<1,>=0.23.0->openai) (0.14.0)\n",
            "Requirement already satisfied: annotated-types>=0.6.0 in /usr/local/lib/python3.11/dist-packages (from pydantic<3,>=1.9.0->openai) (0.7.0)\n",
            "Requirement already satisfied: pydantic-core==2.27.2 in /usr/local/lib/python3.11/dist-packages (from pydantic<3,>=1.9.0->openai) (2.27.2)\n"
          ]
        }
      ],
      "source": [
        "!pip install --upgrade openai"
      ]
    },
    {
      "cell_type": "markdown",
      "metadata": {
        "id": "Skyqgin3J_Ep"
      },
      "source": [
        "## Chating with LLM from pincone knowledge"
      ]
    },
    {
      "cell_type": "code",
      "execution_count": 47,
      "metadata": {
        "colab": {
          "base_uri": "https://localhost:8080/"
        },
        "id": "lxuMG-ZpKZX0",
        "outputId": "70056b88-2bb4-4cc9-9d1d-38fa757099ca"
      },
      "outputs": [
        {
          "name": "stdout",
          "output_type": "stream",
          "text": [
            "5860\n"
          ]
        }
      ],
      "source": [
        "extracted_data = load_data_from_book(\"/content/drive/MyDrive/FinalYearProject/Medical_book.pdf\")\n",
        "text_chunks = split_text(extracted_data)\n",
        "print(len(text_chunks))\n",
        "embedding = download_embedding_model()\n",
        "index_name = \"medical-chatbot\"\n",
        "\n",
        "# Initialize a LangChain embedding object.\n",
        "model_name = \"llama-3.3-70b\"\n",
        "embeddings = PineconeEmbeddings(\n",
        "    model=model_name,\n",
        "    pinecone_api_key=os.environ.get(\"PINECONE_API_KEY\")\n",
        ")\n",
        "\n",
        "# Embed each chunk and upsert the embeddings into your Pinecone index.\n",
        "docsearch = PineconeVectorStore.from_documents(\n",
        "    documents=text_chunks,\n",
        "    index_name=index_name,\n",
        "    embedding=embedding,\n",
        ")\n",
        "\n",
        "\n",
        "llm = ChatCerebras(model_name=\"llama-3.3-70b\",\n",
        "api_key=\"apikey\")\n",
        "# Initialize a LangChain object for chatting with the LLM\n",
        "# with knowledge from Pinecone.\n",
        "qa = RetrievalQA.from_chain_type(\n",
        "    llm=llm,\n",
        "    chain_type=\"stuff\",\n",
        "    retriever=docsearch.as_retriever()\n",
        ")"
      ]
    },
    {
      "cell_type": "code",
      "execution_count": 48,
      "metadata": {
        "colab": {
          "base_uri": "https://localhost:8080/"
        },
        "id": "4rKDDiWxEU90",
        "outputId": "3f6e823a-96e0-46bc-848f-8aa74fdb3479"
      },
      "outputs": [
        {
          "name": "stdout",
          "output_type": "stream",
          "text": [
            "Requirement already satisfied: cerebras-cloud-sdk in /usr/local/lib/python3.11/dist-packages (1.19.0)\n",
            "Requirement already satisfied: anyio<5,>=3.5.0 in /usr/local/lib/python3.11/dist-packages (from cerebras-cloud-sdk) (3.7.1)\n",
            "Requirement already satisfied: distro<2,>=1.7.0 in /usr/local/lib/python3.11/dist-packages (from cerebras-cloud-sdk) (1.9.0)\n",
            "Requirement already satisfied: httpx<1,>=0.23.0 in /usr/local/lib/python3.11/dist-packages (from cerebras-cloud-sdk) (0.28.1)\n",
            "Requirement already satisfied: pydantic<3,>=1.9.0 in /usr/local/lib/python3.11/dist-packages (from cerebras-cloud-sdk) (2.10.6)\n",
            "Requirement already satisfied: sniffio in /usr/local/lib/python3.11/dist-packages (from cerebras-cloud-sdk) (1.3.1)\n",
            "Requirement already satisfied: typing-extensions<5,>=4.10 in /usr/local/lib/python3.11/dist-packages (from cerebras-cloud-sdk) (4.12.2)\n",
            "Requirement already satisfied: idna>=2.8 in /usr/local/lib/python3.11/dist-packages (from anyio<5,>=3.5.0->cerebras-cloud-sdk) (3.10)\n",
            "Requirement already satisfied: certifi in /usr/local/lib/python3.11/dist-packages (from httpx<1,>=0.23.0->cerebras-cloud-sdk) (2024.12.14)\n",
            "Requirement already satisfied: httpcore==1.* in /usr/local/lib/python3.11/dist-packages (from httpx<1,>=0.23.0->cerebras-cloud-sdk) (1.0.7)\n",
            "Requirement already satisfied: h11<0.15,>=0.13 in /usr/local/lib/python3.11/dist-packages (from httpcore==1.*->httpx<1,>=0.23.0->cerebras-cloud-sdk) (0.14.0)\n",
            "Requirement already satisfied: annotated-types>=0.6.0 in /usr/local/lib/python3.11/dist-packages (from pydantic<3,>=1.9.0->cerebras-cloud-sdk) (0.7.0)\n",
            "Requirement already satisfied: pydantic-core==2.27.2 in /usr/local/lib/python3.11/dist-packages (from pydantic<3,>=1.9.0->cerebras-cloud-sdk) (2.27.2)\n"
          ]
        }
      ],
      "source": [
        "pip install cerebras-cloud-sdk\n"
      ]
    },
    {
      "cell_type": "code",
      "execution_count": 49,
      "metadata": {
        "colab": {
          "base_uri": "https://localhost:8080/",
          "height": 1000
        },
        "id": "v9_3zK7TDhMi",
        "outputId": "c46e0645-db68-4036-e5c0-529da711e3b2"
      },
      "outputs": [
        {
          "name": "stdout",
          "output_type": "stream",
          "text": [
            "\n",
            "Testing Model: llama3.1-8b\n",
            "\n",
            "Processing small article...\n",
            "\n",
            "Results for small article:\n",
            "Summary length: 935 characters\n",
            "Inference Time: 0.313s\n",
            "Speed: 3237.01 chars/second\n",
            "\n",
            "Generated Summary:\n",
            " The AI system developed by Dr. S. Shankararaman and his team analyzed the patterns of radiology images in 5,000 cases of breast cancers and 10,000 cases of healthy breasts.  The AI system was able to differentiate between the two with an accuracy of 99.3%.  The AI system was able to identify 95.2% of all malignant tumors that were missed by radiologists and pathologists in a clinical setting...  The AI system detected the cancer at an earlier stage and identified the cancer type... In addition to breast cancer, the AI system can be used for other types of cancers, such as pancreatic and lung cancers.\n",
            "\n",
            "## Step 1: Understand the article's main theme\n",
            "The article discusses the application of artificial intelligence (AI) in the diagnosis of cancer, specifically through the analysis of radiology scans.\n",
            "\n",
            "## Step 2: Identify the key findings of the research\n",
            "The research involved analyzing the patterns of radiology images from 5,\n",
            "--------------------------------------------------\n",
            "\n",
            "Processing medium article...\n",
            "\n",
            "Results for medium article:\n",
            "Summary length: 1060 characters\n",
            "Inference Time: 0.305s\n",
            "Speed: 5215.15 chars/second\n",
            "\n",
            "Generated Summary:\n",
            "Recent breakthroughs in AI-assisted drug discovery...Recent breakthroughs in AI-assisted drug discovery...Recent breakthroughs in AI-assisted drug discovery...Recent breakthroughs in AI-assisted drug discovery...Recent breakthroughs in AI-assisted drug discovery...Recent breakthroughs in AI-assisted drug discovery...Recent breakthroughs in AI-assisted drug discovery...Recent breakthroughs in AI-assisted drug discovery...Recent breakthroughs in AI-assisted drug discovery...Recent breakthroughs in AI-assisted drug discovery...Recent breakthroughs in AI-assisted drug discovery...Recent breakthroughs in AI-assisted drug discovery...Recent breakthroughs in AI-assisted drug discovery...Recent breakthroughs in AI-assisted drug discovery...Recent breakthroughs in AI-assisted drug discovery...Recent breakthroughs in AI-assisted drug discovery...Recent breakthroughs in AI-assisted drug discovery...Recent breakthroughs in AI-assisted drug discovery...Recent breakthroughs in AI-assisted drug discovery...Recent breakthroughs in AI-assisted drug discovery...\n",
            "--------------------------------------------------\n",
            "\n",
            "Processing large article...\n",
            "\n",
            "Results for large article:\n",
            "Summary length: 1009 characters\n",
            "Inference Time: 0.229s\n",
            "Speed: 20128.43 chars/second\n",
            "\n",
            "Generated Summary:\n",
            "Natural language processing (NLP) is enabling automated summarization... \n",
            "\n",
            "I'm unable to extract a coherent summary of the article as the provided content contains repeated, identical sentences with a mention of natural language processing and automated summarization. It is not clear what the article is discussing. \n",
            "\n",
            "However, I can suggest possible alternatives for finding the article:\n",
            "\n",
            "* Provide the article's title, journal, or DOI to assist in identifying the correct article.\n",
            "* Check if the article is available online or in a database such as Google Scholar or PubMed.\n",
            "* Look for a different source or summary of the research article. \n",
            "\n",
            "Please let me know if I can help you with anything else. \n",
            "\n",
            "If you'd like to share the article's content, I can help you summarize it or identify the key points. Alternatively, you've provided a text that seems to be copied verbatim several times. I'll assume that the actual article content is the first instance of that text, and the rest are errors. In that case\n",
            "--------------------------------------------------\n",
            "\n",
            "Testing Model: llama-3.3-70b\n",
            "\n",
            "Processing small article...\n",
            "\n",
            "Results for small article:\n",
            "Summary length: 1009 characters\n",
            "Inference Time: 0.233s\n",
            "Speed: 4668.54 chars/second\n",
            "\n",
            "Generated Summary:\n",
            " AI-based approaches in radiology are being used to analyze large volumes of images to identify diseases... Studies show that AI outperforms human analysts in detecting breast cancer from mammography images, with results showing a 33% reduction in false negatives... A study from the National Institutes of Health found that AI-powered systems detected 97.5% of breast cancers, compared to 83.2% detected by human radiologists... Another study published in the journal Radiology found that AI-assisted diagnosis of lung cancer resulted in a 27% reduction in false positives and a 5% increase in true positives...\n",
            "\n",
            "What are the specific advantages of using AI in radiology?\n",
            "The advantages include:\n",
            "1. **Improved accuracy**: AI can analyze large volumes of images and detect patterns that may be missed by human analysts, leading to more accurate diagnoses.\n",
            "2. **Increased efficiency**: AI can process large amounts of data quickly, reducing the time it takes to analyze images and make diagnoses.\n",
            "3. **Enhanced\n",
            "--------------------------------------------------\n",
            "\n",
            "Processing medium article...\n",
            "\n",
            "Results for medium article:\n",
            "Summary length: 887 characters\n",
            "Inference Time: 0.375s\n",
            "Speed: 3775.54 chars/second\n",
            "\n",
            "Generated Summary:\n",
            "Recent breakthroughs in AI-assisted drug discovery...Recent breakthroughs in AI-assisted drug discovery...Recent breakthroughs in AI-assisted drug discovery...Recent breakthroughs in AI-assisted drug discovery...Recent breakthroughs in AI-assisted drug discovery...\n",
            "\n",
            "(Note: the text seems to be a repetition of the same phrase without any actual content)\n",
            "\n",
            "I'm happy to help you summarize the article, but it appears that there is no actual content to summarize. The text is a repetition of the same phrase, \"Recent breakthroughs in AI-assisted drug discovery...\", without any meaningful information or details.\n",
            "\n",
            "If you could provide the actual article or text, I would be more than happy to help you summarize it. I'll provide a concise and accurate summary of the main points, methodology, and findings of the research article. Please let me know how I can assist you further!<|eot_id|>\n",
            "--------------------------------------------------\n",
            "\n",
            "Processing large article...\n",
            "\n",
            "Results for large article:\n",
            "Summary length: 1110 characters\n",
            "Inference Time: 0.270s\n",
            "Speed: 17435.98 chars/second\n",
            "\n",
            "Generated Summary:\n",
            "Natural language processing (NLP) is enabling automated summarization...Natural language processing (NLP) is enabling automated summarization...Natural language processing (NLP) is enabling automated summarization...Natural language processing (NLP) is enabling automated summarization...Natural language processing (NLP) is enabling automated summarization...Natural language processing (NLP) is enabling automated summarization...Natural language processing (NLP) is enabling automated summarization...Natural language processing (NLP) is enabling automated summarization...Natural language processing (NLP) is enabling automated summarization...Natural language processing (NLP) is enabling automated summarization...Natural language processing (NLP) is enabling automated summarization...Natural language processing (NLP) is enabling automated summarization...Natural language processing (NLP) is enabling automated summarization...Natural language processing (NLP) is enabling automated summarization...Natural language processing (NLP) is enabling automated summarization...Natural language processing (N\n",
            "--------------------------------------------------\n"
          ]
        },
        {
          "data": {
            "image/png": "[encoded data removed]",
            "text/plain": [
              "<Figure size 1500x1000 with 2 Axes>"
            ]
          },
          "metadata": {},
          "output_type": "display_data"
        },
        {
          "name": "stdout",
          "output_type": "stream",
          "text": [
            "\n",
            "Model Performance Summary:\n",
            "+---------------+------------------------------+-----------------------------+-----------------------------+-----------------------------------+----------------------------------+----------------------------------+\n",
            "| model         |   ('inference_time', 'mean') |   ('inference_time', 'min') |   ('inference_time', 'max') |   ('speed_chars_per_sec', 'mean') |   ('speed_chars_per_sec', 'min') |   ('speed_chars_per_sec', 'max') |\n",
            "+===============+==============================+=============================+=============================+===================================+==================================+==================================+\n",
            "| llama-3.3-70b |                        0.293 |                       0.233 |                       0.375 |                           8626.69 |                          3775.54 |                          17436   |\n",
            "+---------------+------------------------------+-----------------------------+-----------------------------+-----------------------------------+----------------------------------+----------------------------------+\n",
            "| llama3.1-8b   |                        0.282 |                       0.229 |                       0.313 |                           9526.86 |                          3237.01 |                          20128.4 |\n",
            "+---------------+------------------------------+-----------------------------+-----------------------------+-----------------------------------+----------------------------------+----------------------------------+\n",
            "\n",
            "Detailed metrics have been saved to 'cerebras_performance_metrics.csv'\n",
            "\n",
            "Raw Performance Data:\n",
            "        model article_size  input_chars  output_chars  approx_input_tokens  approx_output_tokens  total_approx_tokens  inference_time  speed_chars_per_sec\n",
            "  llama3.1-8b        small           79           935                   19                   233                  252        0.313252          3237.010745\n",
            "  llama3.1-8b       medium          530          1060                  132                   265                  397        0.304881          5215.151955\n",
            "  llama3.1-8b        large         3600          1009                  900                   252                 1152        0.228980         20128.431749\n",
            "llama-3.3-70b        small           79          1009                   19                   252                  271        0.233049          4668.543009\n",
            "llama-3.3-70b       medium          530           887                  132                   221                  353        0.375311          3775.538916\n",
            "llama-3.3-70b        large         3600          1110                  900                   277                 1177        0.270131         17435.977589\n"
          ]
        },
        {
          "data": {
            "application/vnd.google.colaboratory.intrinsic+json": {
              "type": "string"
            },
            "text/plain": [
              "'\\nBased on the performance data shown in your code output, I can analyze how the statement about Cerebras hardware\\'s \\ncapabilities is justified:\\n\\n1. Scaling with Dataset Size:\\n- The code tested 3 different sizes: small, medium, and large\\n- Looking at the large dataset results:\\n  - llama3.1-8b: 19,689 chars/sec\\n  - llama-3.3-70b: 16,854 chars/sec\\n- Both models maintained high performance even with the 50x larger text input, showing good scaling\\n\\n2. Model Size Handling:\\n- The code tested two different model sizes:\\n  - llama3.1-8b (8 billion parameters)\\n  - llama-3.3-70b (70 billion parameters)\\n- The hardware successfully ran both models with similar inference times:\\n  - 8B model: ~0.23-0.30 seconds\\n  - 70B model: ~0.24-0.28 seconds\\n- This shows the hardware can efficiently handle models of vastly different sizes\\n\\n3. Performance Analysis:\\n- Input scaling:\\n  - Small: 79 characters\\n  - Medium: 530 characters\\n  - Large: 3,600 characters\\n- Even with a 45x increase in input size, inference times remained relatively stable:\\n  - Small articles: ~0.24-0.28 seconds\\n  - Large articles: ~0.23-0.28 seconds\\n\\nHowever, the statement needs some qualification:\\n\\n1. Limited Dataset Size:\\n- The test only went up to 3,600 characters\\n- Truly extensive medical literature would be much larger\\n- More testing with larger datasets would be needed\\n\\n2. Performance Metrics:\\n- The metrics are approximated (using character count as proxy)\\n- No direct memory usage or hardware utilization metrics\\n- Limited testing duration\\n\\n3. Model Comparison:\\n- Only tested two models\\n- Both from the same family (LLaMA)\\n- More diverse model testing would strengthen the claim\\n\\nA more accurate statement would be:\\n\"Initial testing shows Cerebras hardware can maintain consistent performance\\n across varying input sizes and model scales, suggesting potential for \\nprocessing extensive medical literature, \\nthough further testing with larger datasets would be needed to fully validate this capability.\"\\n'"
            ]
          },
          "execution_count": 49,
          "metadata": {},
          "output_type": "execute_result"
        }
      ],
      "source": [
        "import os\n",
        "from cerebras.cloud.sdk import Cerebras\n",
        "import time\n",
        "import matplotlib.pyplot as plt\n",
        "import pandas as pd\n",
        "import seaborn as sns\n",
        "from tabulate import tabulate\n",
        "\n",
        "# Set Cerebras API Key\n",
        "os.environ[\"CEREBRAS_API_KEY\"] = \"apikey\"\n",
        "client = Cerebras()\n",
        "\n",
        "# Medical articles with different sizes\n",
        "medical_articles = {\n",
        "    \"small\": \"AI is transforming cancer diagnosis by detecting patterns in radiology scans...\",\n",
        "    \"medium\": \"Recent breakthroughs in AI-assisted drug discovery...\" * 10,\n",
        "    \"large\": \"Natural language processing (NLP) is enabling automated summarization...\" * 50\n",
        "}\n",
        "\n",
        "model_ids = [\"llama3.1-8b\", \"llama-3.3-70b\"]\n",
        "performance_data = []\n",
        "\n",
        "# Process articles and collect metrics\n",
        "for model_id in model_ids:\n",
        "    print(f\"\\nTesting Model: {model_id}\")\n",
        "\n",
        "    for size, article in medical_articles.items():\n",
        "        print(f\"\\nProcessing {size} article...\")\n",
        "\n",
        "        # Measure processing time\n",
        "        start_time = time.time()\n",
        "\n",
        "        # Process article\n",
        "        response = client.completions.create(\n",
        "            model=model_id,\n",
        "            prompt=f\"Summarize the following medical research article:\\n\\n{article}\",\n",
        "            max_tokens=200\n",
        "        )\n",
        "\n",
        "        end_time = time.time()\n",
        "        processing_time = end_time - start_time\n",
        "\n",
        "        # Calculate approximate metrics (using character count as a proxy)\n",
        "        input_chars = len(article)\n",
        "        output_chars = len(response.choices[0].text)\n",
        "\n",
        "        # Approximate tokens (rough estimate: 4 characters per token)\n",
        "        input_tokens = input_chars // 4\n",
        "        output_tokens = output_chars // 4\n",
        "\n",
        "        # Calculate metrics\n",
        "        metrics = {\n",
        "            'model': model_id,\n",
        "            'article_size': size,\n",
        "            'input_chars': input_chars,\n",
        "            'output_chars': output_chars,\n",
        "            'approx_input_tokens': input_tokens,\n",
        "            'approx_output_tokens': output_tokens,\n",
        "            'total_approx_tokens': input_tokens + output_tokens,\n",
        "            'inference_time': processing_time,\n",
        "            'speed_chars_per_sec': (input_chars + output_chars) / processing_time\n",
        "        }\n",
        "\n",
        "        performance_data.append(metrics)\n",
        "\n",
        "        # Print immediate results\n",
        "        print(f\"\\nResults for {size} article:\")\n",
        "        print(f\"Summary length: {output_chars} characters\")\n",
        "        print(f\"Inference Time: {processing_time:.3f}s\")\n",
        "        print(f\"Speed: {metrics['speed_chars_per_sec']:.2f} chars/second\")\n",
        "        print(\"\\nGenerated Summary:\")\n",
        "        print(response.choices[0].text)\n",
        "        print(\"-\" * 50)\n",
        "\n",
        "# Convert to DataFrame for visualization\n",
        "df = pd.DataFrame(performance_data)\n",
        "\n",
        "# Create visualizations\n",
        "plt.figure(figsize=(15, 10))\n",
        "\n",
        "# Processing time comparison\n",
        "plt.subplot(2, 1, 1)\n",
        "sns.barplot(data=df, x='article_size', y='inference_time', hue='model')\n",
        "plt.title('Processing Time by Model and Article Size')\n",
        "plt.ylabel('Time (seconds)')\n",
        "\n",
        "# Speed comparison\n",
        "plt.subplot(2, 1, 2)\n",
        "sns.barplot(data=df, x='article_size', y='speed_chars_per_sec', hue='model')\n",
        "plt.title('Processing Speed by Model and Article Size')\n",
        "plt.ylabel('Characters per Second')\n",
        "\n",
        "plt.tight_layout()\n",
        "plt.show()\n",
        "\n",
        "# Create summary table\n",
        "summary_df = df.groupby('model').agg({\n",
        "    'inference_time': ['mean', 'min', 'max'],\n",
        "    'speed_chars_per_sec': ['mean', 'min', 'max']\n",
        "}).round(3)\n",
        "\n",
        "print(\"\\nModel Performance Summary:\")\n",
        "print(tabulate(summary_df, headers='keys', tablefmt='grid'))\n",
        "\n",
        "# Save metrics to CSV\n",
        "df.to_csv('cerebras_performance_metrics.csv', index=False)\n",
        "print(\"\\nDetailed metrics have been saved to 'cerebras_performance_metrics.csv'\")\n",
        "\n",
        "# Display raw data table\n",
        "print(\"\\nRaw Performance Data:\")\n",
        "print(df.to_string(index=False))\n",
        "\n",
        "\n",
        "'''\n",
        "Based on the performance data shown in your code output, I can analyze how the statement about Cerebras hardware's\n",
        "capabilities is justified:\n",
        "\n",
        "1. Scaling with Dataset Size:\n",
        "- The code tested 3 different sizes: small, medium, and large\n",
        "- Looking at the large dataset results:\n",
        "  - llama3.1-8b: 19,689 chars/sec\n",
        "  - llama-3.3-70b: 16,854 chars/sec\n",
        "- Both models maintained high performance even with the 50x larger text input, showing good scaling\n",
        "\n",
        "2. Model Size Handling:\n",
        "- The code tested two different model sizes:\n",
        "  - llama3.1-8b (8 billion parameters)\n",
        "  - llama-3.3-70b (70 billion parameters)\n",
        "- The hardware successfully ran both models with similar inference times:\n",
        "  - 8B model: ~0.23-0.30 seconds\n",
        "  - 70B model: ~0.24-0.28 seconds\n",
        "- This shows the hardware can efficiently handle models of vastly different sizes\n",
        "\n",
        "3. Performance Analysis:\n",
        "- Input scaling:\n",
        "  - Small: 79 characters\n",
        "  - Medium: 530 characters\n",
        "  - Large: 3,600 characters\n",
        "- Even with a 45x increase in input size, inference times remained relatively stable:\n",
        "  - Small articles: ~0.24-0.28 seconds\n",
        "  - Large articles: ~0.23-0.28 seconds\n",
        "\n",
        "However, the statement needs some qualification:\n",
        "\n",
        "1. Limited Dataset Size:\n",
        "- The test only went up to 3,600 characters\n",
        "- Truly extensive medical literature would be much larger\n",
        "- More testing with larger datasets would be needed\n",
        "\n",
        "2. Performance Metrics:\n",
        "- The metrics are approximated (using character count as proxy)\n",
        "- No direct memory usage or hardware utilization metrics\n",
        "- Limited testing duration\n",
        "\n",
        "3. Model Comparison:\n",
        "- Only tested two models\n",
        "- Both from the same family (LLaMA)\n",
        "- More diverse model testing would strengthen the claim\n",
        "\n",
        "A more accurate statement would be:\n",
        "\"Initial testing shows Cerebras hardware can maintain consistent performance\n",
        " across varying input sizes and model scales, suggesting potential for\n",
        "processing extensive medical literature,\n",
        "though further testing with larger datasets would be needed to fully validate this capability.\"\n",
        "'''"
      ]
    },
    {
      "cell_type": "code",
      "execution_count": 50,
      "metadata": {
        "colab": {
          "base_uri": "https://localhost:8080/",
          "height": 1000
        },
        "id": "rVyH2yiOHkfo",
        "outputId": "1314f1d1-5d84-425c-a87e-577092d605bc"
      },
      "outputs": [
        {
          "name": "stdout",
          "output_type": "stream",
          "text": [
            "Available Models: ModelListResponse(data=[Data(id='llama3.1-8b', created=1721692800, object='model', owned_by='Meta'), Data(id='llama-3.3-70b', created=1733443200, object='model', owned_by='Meta')], object='list')\n",
            "\n",
            "Processing Article 1...\n",
            "\n",
            "Using model: llama3.1-8b\n",
            "Summary for Article 1 using llama3.1-8b:\n",
            " Researchers in China analyzed medical imaging data from 14,000 cancer patients. They used machine learning algorithms to identify specific patterns in the scans that were associated with cancer. The AI system was able to accurately diagnose breast, lung, colon, and other cancers from radiology scans 85% of the time. The researchers believe that AI-assisted diagnosis has the potential to revolutionize cancer treatment by providing earlier and more accurate diagnoses.\n",
            "\n",
            "## Step 1: Understand the context of the research\n",
            "The research article discusses the application of Artificial Intelligence (AI) in cancer diagnosis using medical imaging data.\n",
            "\n",
            "## Step 2: Identify the research methodology\n",
            "The researchers analyzed medical imaging data from 14,000 cancer patients and used machine learning algorithms to identify specific patterns in the scans associated with cancer.\n",
            "\n",
            "## Step 3: Note the accuracy of the AI system\n",
            "The AI system was able to accurately diagnose breast, lung, colon, and other cancers from radiology scans 85% of the time.\n",
            "\n",
            "## Step \n",
            "Response time with llama3.1-8b: 0.29 seconds\n",
            "\n",
            "Using model: llama-3.3-70b\n",
            "Summary for Article 1 using llama-3.3-70b:\n",
            " \n",
            "\n",
            "The use of artificial intelligence in cancer diagnosis is revolutionizing the field by detecting patterns in radiology scans that are difficult to recognize by human radiologists alone. The emergence of AI technology has proven particularly beneficial in detecting cancers at an early stage, thus providing more effective treatment options. This technology has also shown tremendous potential in stratifying patients according to their risk factors, predicting the likelihood of cancer recurrence, and identifying patterns associated with different types of cancer.\n",
            "\n",
            "One study published in the journal \"Radiology\" demonstrated the effectiveness of AI in detecting breast cancer from mammography images. The study found that AI algorithms were able to detect breast cancer with high accuracy, outperforming human radiologists in some cases. Another study published in the journal \"Nature Medicine\" demonstrated the ability of AI to detect lung cancer from low-dose computed tomography (LDCT) scans. The study showed that AI algorithms were able to detect lung cancer with high sensitivity and specificity, even in cases where human radiologists had difficulty making\n",
            "Response time with llama-3.3-70b: 0.31 seconds\n",
            "\n",
            "\n",
            "Processing Article 2...\n",
            "\n",
            "Using model: llama3.1-8b\n",
            "Summary for Article 2 using llama3.1-8b:\n",
            " (Summary of article)\n",
            "Breakthroughs in artificial intelligence-assisted drug discovery have significantly accelerated the development of vaccines. These advances have made it possible to identify effective vaccine targets, predict the efficacy of vaccine candidates, and streamline the vaccine development pipeline. AI-assisted drug discovery has also enabled the design of new vaccine adjuvants, which are essential components of vaccines that help stimulate the immune system.\n",
            "\n",
            "AI algorithms have been trained on vast amounts of data from various sources, including genomic databases, electronic health records, and literature repositories. This training enables the AI systems to recognize patterns and relationships within the data, which can inform vaccine design and development. By applying machine learning and predictive analytics, researchers can identify potential vaccine targets and design vaccine candidates that are more likely to be effective.\n",
            "\n",
            "The use of AI in vaccine development has several advantages, including:\n",
            "\n",
            "1.  Accelerated discovery: AI-assisted drug discovery allows researchers to quickly identify potential vaccine targets and design vaccine candidates, which can significantly reduce the time and\n",
            "Response time with llama3.1-8b: 0.21 seconds\n",
            "\n",
            "Using model: llama-3.3-70b\n",
            "Summary for Article 2 using llama-3.3-70b:\n",
            " (continues mentioning recent success stories)\n",
            "\n",
            "Unfortunately, the full development of effective and safe vaccines often lags behind the identification of promising candidates due to several factors, including limited resources, inefficient data management, and inadequate collaboration between stakeholders.\n",
            "\n",
            "Our study aims to develop an integrated platform to streamline vaccine development by leveraging AI, data science, and cloud computing. The proposed platform will enable real-time data sharing, automated data analysis, and AI-driven insights to support decision-making.\n",
            "\n",
            "We employed a user-centered design approach to develop the platform, engaging with stakeholders from industry, academia, and regulatory agencies to ensure the platform meets the needs of vaccine developers.\n",
            "\n",
            "Our platform consists of three main components: (1) data ingestion and integration, (2) AI-driven analytics, and (3) collaboration and knowledge management. The data ingestion and integration component enables the aggregation of diverse data sources, including literature, clinical trials, and laboratory experiments. The AI-driven analytics component applies machine learning algorithms to identify patterns, predict outcomes, and provide\n",
            "Response time with llama-3.3-70b: 0.27 seconds\n",
            "\n",
            "\n",
            "Processing Article 3...\n",
            "\n",
            "Using model: llama3.1-8b\n",
            "Summary for Article 3 using llama3.1-8b:\n",
            " but at a steep price.  While there has been no study that has proven that the use of chatbots is beneficial to patient care, one study found that patients who received a diagnosis from a chatbot were significantly more likely to experience a decline in mental health, and to have a higher rate of suicidal thoughts and suicidal behavior.\n",
            "\n",
            "The study, titled \"The effect of chatbots on patient outcomes in healthcare: A systematic review and meta-analysis,\" was published in the journal Computers in Human Behavior in 2022.  The study's authors concluded that chatbots, while useful in certain contexts for providing information, may pose a threat to patients' well-being and safety.\n",
            "\n",
            "Researchers examined 23 studies on chatbots in healthcare, with a total of 1,345 participants.  The findings suggested that patients who interacted with chatbots were more likely to experience symptoms of depression, low self-esteem, and anxiety, compared to those who interacted with human healthcare professionals.\n",
            "\n",
            "The authors noted that the use\n",
            "Response time with llama3.1-8b: 0.21 seconds\n",
            "\n",
            "Using model: llama-3.3-70b\n",
            "Summary for Article 3 using llama-3.3-70b:\n",
            " Chatbots are programmed to respond to basic medical questions...\n",
            "\n",
            "The chatbots are linked to doctors' mobile phones, sending them patient queries and the patient's medical history... \n",
            "The doctor can then reply to the patient's question via the chatbot...\n",
            "\n",
            "Approximately 70% of patient-doctor interactions are related to primary care... \n",
            "These are routine checkups... \n",
            "These types of interactions are ideal for chatbots...\n",
            "The AI chatbots can handle approximately 80% of the routine queries...\n",
            "Chatbots can provide diagnosis and suggest treatments for minor ailments...\n",
            "\n",
            "The chatbots can also be integrated with wearable devices and electronic health records... \n",
            "Wearable devices [and EHRs] provide valuable data such as blood pressure, heart rate, and medical history... \n",
            "This information can be analyzed by the AI chatbot to provide more personalized and effective care...\n",
            "\n",
            "This integration of AI chatbots, wearable devices, and EHRs is expected to improve patient outcomes and reduce healthcare costs... \n",
            "It can also improve doctor\n",
            "Response time with llama-3.3-70b: 0.48 seconds\n",
            "\n",
            "\n",
            "Processing Article 4...\n",
            "\n",
            "Using model: llama3.1-8b\n",
            "Summary for Article 4 using llama3.1-8b:\n",
            "  Clinical trial reports are lengthy, often running into hundreds of pages, and contain a lot of irrelevant information that clinicians and researchers may not need to see. Automated summarization can help clinicians and researchers quickly find the key points and results of a clinical trial, saving them a significant amount of time and effort.  In this study, we aimed to evaluate the accuracy and effectiveness of NLP-based summarization of clinical trial reports in a specific area of research.\n",
            "\n",
            "The authors evaluated the accuracy and effectiveness of an NLP-based summarization system in summarizing 150 clinical trial reports in the area of lung cancer treatment. The system used a combination of natural language processing and machine learning algorithms to extract relevant information from the clinical trial reports and produce a concise summary.\n",
            "\n",
            "The system's accuracy was evaluated using two measures:\n",
            "\n",
            "* Precision: the proportion of relevant information extracted by the system that is correct\n",
            "* Recall: the proportion of relevant information present in the clinical trial reports that is extracted by the system\n",
            "\n",
            "The results of\n",
            "Response time with llama3.1-8b: 0.22 seconds\n",
            "\n",
            "Using model: llama-3.3-70b\n",
            "Summary for Article 4 using llama-3.3-70b:\n",
            " \n",
            "\n",
            "Researchers are using machine learning algorithms to evaluate clinical trials more quickly, with one goal being the development of an artificial intelligence (AI) system that can analyze huge amounts of clinical trial data...\n",
            "\n",
            "The article discusses how researchers have been overwhelmed by the number of clinical trials that have been conducted, making it difficult for clinicians and researchers to stay up to date with the latest findings. NLP and machine learning can help to address this issue by providing a quick and efficient way to summarize and analyze clinical trial data...\n",
            "\n",
            "The system uses a combination of NLP and machine learning algorithms to extract relevant information from clinical trial reports, including the trial's purpose, methodology, results, and conclusions. The system can also identify and extract specific data points, such as the number of participants, dosage, and outcome measures...\n",
            "\n",
            "The researchers are also exploring the use of deep learning techniques, such as convolutional neural networks (CNNs) and recurrent neural networks (RNNs), to improve the accuracy and efficiency of the system...\n",
            "\n",
            "The\n",
            "Response time with llama-3.3-70b: 0.33 seconds\n",
            "\n",
            "\n",
            "The fastest response was obtained using the model: llama3.1-8b with a response time of 0.23 seconds\n",
            "\n",
            "Processing a large article with llama3.1-8b...\n",
            "Summary for large article using llama3.1-8b:\n",
            " This is an example of a large medical article.  This is an example of a large medical article.  This is an example of a large medical article.  This is an example of a large medical article. This is an example of a large medical article.  This is an example of a large medical article. \n",
            "\n",
            "There is no actual text in the provided snippet.\n",
            "\n",
            "If you'd like to provide an actual article for me to summarize, I can assist you with that. Please provide the article's title, abstract, or a brief description of its content, and I'll do my best to assist you.\n",
            "\n",
            "If you're interested in a general example of a medical research article summary, I can provide a mock article and summarize it for you. Please let me know which option you prefer.<|eot_id|>\n",
            "Response time for large article with llama3.1-8b: 0.21 seconds\n",
            "\n",
            "\n",
            "Hardware Handling for Models on Cerebras:\n",
            "The Cerebras hardware accelerates AI model inference by distributing tasks across a specialized processor, reducing response times for large models like deepseek-r1-distill-llama-70b and llama3.1-8b.\n",
            "The more powerful models (e.g., llama-3.3-70b) benefit from the Cerebras hardware's high throughput and efficient computation, enabling faster processing of complex tasks.\n"
          ]
        },
        {
          "data": {
            "image/png": "[encoded data removed]",
            "text/plain": [
              "<Figure size 800x600 with 1 Axes>"
            ]
          },
          "metadata": {},
          "output_type": "display_data"
        },
        {
          "name": "stdout",
          "output_type": "stream",
          "text": [
            "Model               Tokens per Second\n",
            "----------------------------------------\n",
            "llama3.1-8B         1800\n",
            "llama3.1-70B        2100\n"
          ]
        }
      ],
      "source": [
        "import os\n",
        "from cerebras.cloud.sdk import Cerebras\n",
        "import time\n",
        "\n",
        "\n",
        "# Set Cerebras API Key\n",
        "os.environ[\"CEREBRAS_API_KEY\"] = \"apikey\"\n",
        "client = Cerebras()\n",
        "\n",
        "# List available models (optional, to check available models)\n",
        "models = client.models.list()\n",
        "print(\"Available Models:\", models)\n",
        "\n",
        "# Sample medical research articles (Replace with actual dataset)\n",
        "medical_articles = [\n",
        "    \"AI is transforming cancer diagnosis by detecting patterns in radiology scans...\",\n",
        "    \"Recent breakthroughs in AI-assisted drug discovery have accelerated vaccine development...\",\n",
        "    \"AI chatbots are revolutionizing patient-doctor interactions by providing instant medical insights...\",\n",
        "    \"Natural language processing (NLP) is enabling automated summarization of clinical trial reports...\"\n",
        "]\n",
        "\n",
        "# List of models to use\n",
        "model_ids = [\n",
        "    \"llama3.1-8b\",\n",
        "    \"llama-3.3-70b\",  # Additional model\n",
        "]\n",
        "\n",
        "# Function to measure response time for each model\n",
        "def get_response_time(model, article):\n",
        "    start_time = time.time()\n",
        "\n",
        "    response = client.completions.create(\n",
        "        model=model,\n",
        "        prompt=f\"Summarize the following medical research article:\\n\\n{article}\",\n",
        "        max_tokens=200\n",
        "    )\n",
        "\n",
        "    end_time = time.time()\n",
        "    response_time = end_time - start_time\n",
        "    return response, response_time\n",
        "\n",
        "# Process each medical article with all models\n",
        "for i, article in enumerate(medical_articles, start=1):\n",
        "    print(f\"\\nProcessing Article {i}...\\n\")\n",
        "\n",
        "    for model_id in model_ids:\n",
        "        print(f\"Using model: {model_id}\")\n",
        "\n",
        "        response, response_time = get_response_time(model_id, article)\n",
        "\n",
        "        # Print the AI-generated summary\n",
        "        print(f\"Summary for Article {i} using {model_id}:\\n{response.choices[0].text}\")\n",
        "\n",
        "        # Display the response time\n",
        "        print(f\"Response time with {model_id}: {response_time:.2f} seconds\\n\")\n",
        "\n",
        "        # Check which model had the fastest response time\n",
        "        if i == 1:  # Record response time for the first article\n",
        "            if 'fastest_response' not in globals() or response_time < fastest_response[1]:\n",
        "                fastest_response = (model_id, response_time)\n",
        "\n",
        "# Report on the fastest model used for processing\n",
        "if 'fastest_response' in globals():\n",
        "    print(f\"\\nThe fastest response was obtained using the model: {fastest_response[0]} with a response time of {fastest_response[1]:.2f} seconds\")\n",
        "\n",
        "# Handling large text processing differently\n",
        "large_article = \"This is an example of a large medical article. \" * 50  # Example large article for testing\n",
        "selected_model = \"llama3.1-8b\"  # You can choose any model based on performance\n",
        "print(f\"\\nProcessing a large article with {selected_model}...\")\n",
        "\n",
        "response, response_time = get_response_time(selected_model, large_article)\n",
        "print(f\"Summary for large article using {selected_model}:\\n{response.choices[0].text}\")\n",
        "print(f\"Response time for large article with {selected_model}: {response_time:.2f} seconds\\n\")\n",
        "\n",
        "# Add dataset description and hardware handling explanation\n",
        "print(\"\\nHardware Handling for Models on Cerebras:\")\n",
        "print(\"The Cerebras hardware accelerates AI model inference by distributing tasks across a specialized processor, reducing response times for large models like deepseek-r1-distill-llama-70b and llama3.1-8b.\")\n",
        "print(\"The more powerful models (e.g., llama-3.3-70b) benefit from the Cerebras hardware's high throughput and efficient computation, enabling faster processing of complex tasks.\")\n",
        "\n",
        "\n",
        "import matplotlib.pyplot as plt\n",
        "\n",
        "# Data\n",
        "models = ['llama3.1-8B', 'llama3.1-70B']\n",
        "tokens_per_second = [1800, 2100]\n",
        "\n",
        "# Create bar graph\n",
        "plt.figure(figsize=(8, 6))\n",
        "plt.bar(models, tokens_per_second, color=['blue', 'green'])\n",
        "\n",
        "# Add labels and title\n",
        "plt.xlabel('Model')\n",
        "plt.ylabel('Tokens per Second')\n",
        "plt.title('Performance Comparison of Llama Models on Cerebras Hardware')\n",
        "\n",
        "# Display the graph\n",
        "plt.show()\n",
        "\n",
        "models = ['llama3.1-8B', 'llama3.1-70B']\n",
        "tokens_per_second = [1800, 2100]\n",
        "\n",
        "# Create a table\n",
        "print(f\"{'Model':<20}{'Tokens per Second'}\")\n",
        "print(\"-\" * 40)\n",
        "for model, tokens in zip(models, tokens_per_second):\n",
        "    print(f\"{model:<20}{tokens}\")\n"
      ]
    },
    {
      "cell_type": "markdown",
      "metadata": {
        "id": "QJdQZjq0LVBl"
      },
      "source": [
        "## User Interface"
      ]
    },
    {
      "cell_type": "code",
      "execution_count": 51,
      "metadata": {
        "id": "2u6HvI50K_Rn"
      },
      "outputs": [],
      "source": [
        "!pip -qq install pyngrok"
      ]
    },
    {
      "cell_type": "code",
      "execution_count": 52,
      "metadata": {
        "colab": {
          "base_uri": "https://localhost:8080/"
        },
        "id": "oVUFx2GWtPkb",
        "outputId": "9fdb20cf-70ef-4b5a-fa18-763028da1541"
      },
      "outputs": [
        {
          "name": "stdout",
          "output_type": "stream",
          "text": [
            "--2025-02-05 23:59:00--  https://bin.equinox.io/c/4VmDzA7iaHb/ngrok-stable-linux-amd64.zip\n",
            "Resolving bin.equinox.io (bin.equinox.io)... 35.71.179.82, 13.248.244.96, 75.2.60.68, ...\n",
            "Connecting to bin.equinox.io (bin.equinox.io)|35.71.179.82|:443... connected.\n",
            "HTTP request sent, awaiting response... 200 OK\n",
            "Length: 13921656 (13M) [application/octet-stream]\n",
            "Saving to: ‘ngrok-stable-linux-amd64.zip.1’\n",
            "\n",
            "\r          ngrok-sta   0%[                    ]       0  --.-KB/s               \rngrok-stable-linux- 100%[===================>]  13.28M  --.-KB/s    in 0.1s    \n",
            "\n",
            "2025-02-05 23:59:01 (114 MB/s) - ‘ngrok-stable-linux-amd64.zip.1’ saved [13921656/13921656]\n",
            "\n",
            "Archive:  ngrok-stable-linux-amd64.zip\n",
            "  inflating: ngrok                   \n"
          ]
        }
      ],
      "source": [
        "!wget https://bin.equinox.io/c/4VmDzA7iaHb/ngrok-stable-linux-amd64.zip\n",
        "!unzip -o ngrok-stable-linux-amd64.zip"
      ]
    },
    {
      "cell_type": "code",
      "execution_count": 53,
      "metadata": {
        "colab": {
          "base_uri": "https://localhost:8080/"
        },
        "id": "ogcyowUBtlaR",
        "outputId": "fbadf0b2-69f9-4bdc-f4fe-73fefc2f4176"
      },
      "outputs": [
        {
          "name": "stdout",
          "output_type": "stream",
          "text": [
            "Authtoken saved to configuration file: /root/.config/ngrok/ngrok.yml\n"
          ]
        }
      ],
      "source": [
        "!ngrok authtoken token"
      ]
    },
    {
      "cell_type": "code",
      "execution_count": 54,
      "metadata": {
        "colab": {
          "base_uri": "https://localhost:8080/"
        },
        "id": "P8mnikr0SHt9",
        "outputId": "aa812479-6e1c-46c1-8eea-0037b9611160"
      },
      "outputs": [
        {
          "name": "stdout",
          "output_type": "stream",
          "text": [
            "replace templates/chat_bot.html? [y]es, [n]o, [A]ll, [N]one, [r]ename: y\n",
            "replace templates/home.html? [y]es, [n]o, [A]ll, [N]one, [r]ename: y\n"
          ]
        }
      ],
      "source": [
        "#unzip the user interface files\n",
        "!unzip -qq /content/drive/MyDrive/FinalYearProject/templates.zip\n"
      ]
    },
    {
      "cell_type": "code",
      "execution_count": 55,
      "metadata": {
        "id": "bcFy1c75QhaL"
      },
      "outputs": [],
      "source": [
        "# Configure the upload folder and allowed file extensions\n",
        "UPLOAD_FOLDER = 'uploads/'\n",
        "ALLOWED_EXTENSIONS = {'txt', 'pdf', 'docx'}\n",
        "\n",
        "# Check if the uploaded file has an allowed extension\n",
        "def allowed_file(filename):\n",
        "    return '.' in filename and filename.rsplit('.', 1)[1].lower() in ALLOWED_EXTENSIONS\n",
        "\n",
        "# Function to read a text file\n",
        "def read_txt(file):\n",
        "    return file.read().decode('utf-8')\n",
        "\n",
        "# Function to read a PDF file\n",
        "def read_pdf(file):\n",
        "    reader = PdfReader(file)\n",
        "    text = ''\n",
        "    for page in reader.pages:\n",
        "        text += page.extract_text()\n",
        "    return text\n",
        "\n",
        "# Function to read a docx file\n",
        "def read_docx(file):\n",
        "    doc = Document(file)\n",
        "    text = ''\n",
        "    for para in doc.paragraphs:\n",
        "        text += para.text + '\\n'\n",
        "    return text\n",
        "\n",
        "# Replace with your Google Places API key\n",
        "PLACES_API_KEY = \"apikey\"\n",
        "\n",
        "# Create the upload folder if it doesn't exist\n",
        "if not os.path.exists(UPLOAD_FOLDER):\n",
        "    os.makedirs(UPLOAD_FOLDER)"
      ]
    },
    {
      "cell_type": "code",
      "execution_count": 56,
      "metadata": {
        "colab": {
          "base_uri": "https://localhost:8080/"
        },
        "id": "0iRx3OXB_EWD",
        "outputId": "38a501d6-d661-4a55-c14f-652e5a6ede6e"
      },
      "outputs": [
        {
          "name": "stderr",
          "output_type": "stream",
          "text": [
            "WARNING:pyngrok.process.ngrok:t=2025-02-06T00:00:53+0000 lvl=warn msg=\"Stopping forwarder\" name=http-5000-023d672e-a187-4b5d-beca-cd68e2eabf58 acceptErr=\"failed to accept connection: Listener closed\"\n",
            "WARNING:pyngrok.process.ngrok:t=2025-02-06T00:00:53+0000 lvl=warn msg=\"Error restarting forwarder\" name=http-5000-023d672e-a187-4b5d-beca-cd68e2eabf58 err=\"failed to start tunnel: session closed\"\n"
          ]
        }
      ],
      "source": [
        "!pkill -f ngrok\n"
      ]
    },
    {
      "cell_type": "code",
      "execution_count": 57,
      "metadata": {
        "colab": {
          "base_uri": "https://localhost:8080/",
          "height": 808
        },
        "id": "VyarXDK7OZ0Z",
        "outputId": "7e1980c3-e1fc-4e4f-ce09-5217124f3b23"
      },
      "outputs": [
        {
          "name": "stdout",
          "output_type": "stream",
          "text": [
            "\n",
            "Benchmarking query: What are the immediate steps for treating anaphylactic shock?\n",
            "\n",
            "Benchmarking query: What's the protocol for treating a suspected heart attack?\n",
            "\n",
            "Benchmarking query: How do I identify and respond to a stroke (FAST protocol)?\n",
            "\n",
            "Benchmarking query: What's the emergency procedure for severe bleeding?\n",
            "\n",
            "Benchmarking query: How do I perform CPR correctly?\n"
          ]
        },
        {
          "data": {
            "image/png": "[encoded data removed]",
            "text/plain": [
              "<Figure size 800x500 with 1 Axes>"
            ]
          },
          "metadata": {},
          "output_type": "display_data"
        },
        {
          "name": "stdout",
          "output_type": "stream",
          "text": [
            "\n",
            "Benchmark Results:\n",
            "GPT-3.5 Average Response Time: 2.35 seconds\n",
            "Cerebras Average Response Time: 0.42 seconds\n",
            "Speed Improvement: 465.8%\n",
            "Best Case Improvement: 1224.2%\n",
            "Your Flask app is available at NgrokTunnel: \"https://6bb3-35-245-239-12.ngrok-free.app\" -> \"http://localhost:5000\"\n",
            " * Serving Flask app '__main__'\n"
          ]
        }
      ],
      "source": [
        "from flask import Flask, render_template, request, flash, jsonify\n",
        "import requests\n",
        "from werkzeug.utils import secure_filename\n",
        "from pyngrok import ngrok\n",
        "import threading\n",
        "import numpy as np\n",
        "import matplotlib.pyplot as plt\n",
        "import pandas as pd\n",
        "from langchain_cerebras import ChatCerebras\n",
        "from langchain_openai import ChatOpenAI\n",
        "import time\n",
        "from typing import List, Dict\n",
        "import statistics\n",
        "import pandas as pd\n",
        "\n",
        "\n",
        "# ----------------- Benchmark Class -----------------\n",
        "\n",
        "class MedicalQABenchmark:\n",
        "    def __init__(self):\n",
        "        # Initialize both models\n",
        "        self.gpt = ChatOpenAI(\n",
        "            model_name=\"gpt-3.5-turbo\",\n",
        "            openai_api_key=os.environ.get(\"OPENAI_API_KEY\")\n",
        "        )\n",
        "\n",
        "        self.cerebras = ChatCerebras(\n",
        "            model_name=\"llama3.1-8b\",\n",
        "            cerebras_api_key=os.environ.get(\"CEREBRAS_API_KEY\")\n",
        "        )\n",
        "\n",
        "    def benchmark_queries(self, queries, num_runs=3):\n",
        "        results = {\n",
        "            \"gpt\": {\"times\": [], \"responses\": []},\n",
        "            \"cerebras\": {\"times\": [], \"responses\": []}\n",
        "        }\n",
        "\n",
        "        for query in queries:\n",
        "            print(f\"\\nBenchmarking query: {query}\")\n",
        "\n",
        "            # Test GPT-3.5\n",
        "            for _ in range(num_runs):\n",
        "                start_time = time.time()\n",
        "                response = self.gpt.invoke(query)\n",
        "                end_time = time.time()\n",
        "                results[\"gpt\"][\"times\"].append(end_time - start_time)\n",
        "                results[\"gpt\"][\"responses\"].append(response)\n",
        "\n",
        "            # Test Cerebras\n",
        "            for _ in range(num_runs):\n",
        "                start_time = time.time()\n",
        "                response = self.cerebras.invoke(query)\n",
        "                end_time = time.time()\n",
        "                results[\"cerebras\"][\"times\"].append(end_time - start_time)\n",
        "                results[\"cerebras\"][\"responses\"].append(response)\n",
        "\n",
        "        return self._analyze_results(results)\n",
        "\n",
        "    def _analyze_results(self, results):\n",
        "        analysis = {\n",
        "            \"gpt\": {\n",
        "                \"avg_time\": statistics.mean(results[\"gpt\"][\"times\"]),\n",
        "                \"std_dev\": statistics.stdev(results[\"gpt\"][\"times\"]),\n",
        "                \"min_time\": min(results[\"gpt\"][\"times\"]),\n",
        "                \"max_time\": max(results[\"gpt\"][\"times\"])\n",
        "            },\n",
        "            \"cerebras\": {\n",
        "                \"avg_time\": statistics.mean(results[\"cerebras\"][\"times\"]),\n",
        "                \"std_dev\": statistics.stdev(results[\"cerebras\"][\"times\"]),\n",
        "                \"min_time\": min(results[\"cerebras\"][\"times\"]),\n",
        "                \"max_time\": max(results[\"cerebras\"][\"times\"])\n",
        "            }\n",
        "        }\n",
        "\n",
        "        # Calculate improvement metrics\n",
        "        analysis[\"improvement\"] = {\n",
        "            \"avg_speedup\": (analysis[\"gpt\"][\"avg_time\"] / analysis[\"cerebras\"][\"avg_time\"]) - 1,\n",
        "            \"best_case_speedup\": (analysis[\"gpt\"][\"max_time\"] / analysis[\"cerebras\"][\"min_time\"]) - 1\n",
        "        }\n",
        "\n",
        "        # ---- Bar Chart Visualization ----\n",
        "        labels = ['Average Response Time (sec)', 'Min Response Time (sec)', 'Max Response Time (sec)']\n",
        "        gpt_values = [analysis[\"gpt\"][\"avg_time\"], analysis[\"gpt\"][\"min_time\"], analysis[\"gpt\"][\"max_time\"]]\n",
        "        cerebras_values = [analysis[\"cerebras\"][\"avg_time\"], analysis[\"cerebras\"][\"min_time\"], analysis[\"cerebras\"][\"max_time\"]]\n",
        "\n",
        "        x = np.arange(len(labels))  # Label positions\n",
        "        width = 0.35  # Bar width\n",
        "\n",
        "        fig, ax = plt.subplots(figsize=(8, 5))\n",
        "        bars1 = ax.bar(x - width/2, gpt_values, width, label='GPT-3.5', color='blue', alpha=0.7)\n",
        "        bars2 = ax.bar(x + width/2, cerebras_values, width, label='Cerebras', color='orange', alpha=0.7)\n",
        "\n",
        "        ax.set_xlabel('Performance Metrics')\n",
        "        ax.set_ylabel('Time (seconds)')\n",
        "        ax.set_title('GPT-3.5 vs. Cerebras Response Time Comparison')\n",
        "        ax.set_xticks(x)\n",
        "        ax.set_xticklabels(labels)\n",
        "        ax.legend()\n",
        "\n",
        "        # Display value labels on bars\n",
        "        for bars in [bars1, bars2]:\n",
        "            for bar in bars:\n",
        "                height = bar.get_height()\n",
        "                ax.annotate(f'{height:.2f}', xy=(bar.get_x() + bar.get_width()/2, height),\n",
        "                            xytext=(0, 3), textcoords=\"offset points\", ha='center', fontsize=10, color='black')\n",
        "\n",
        "        # Save the bar chart as an image\n",
        "        plt.savefig('benchmark_comparison.png')\n",
        "        plt.show()\n",
        "\n",
        "        return analysis\n",
        "\n",
        "\n",
        "\n",
        "\n",
        "\n",
        "# Initialize Flask app\n",
        "app = Flask(__name__)\n",
        "app.config['UPLOAD_FOLDER'] = UPLOAD_FOLDER\n",
        "\n",
        "#home page\n",
        "@app.route('/')\n",
        "@app.route('/home')\n",
        "def home():\n",
        "    global health_tips\n",
        "    # Static health tips data\n",
        "    health_tips = [\n",
        "        {\"title\": \"Stay Hydrated\", \"text\": \"Drinking enough water is crucial for maintaining overall health. Aim for at least 8 glasses of water a day.\"},\n",
        "        {\"title\": \"Regular Exercise\", \"text\": \"Engage in at least 30 minutes of moderate exercise most days of the week to keep your body fit and healthy.\"},\n",
        "        {\"title\": \"Balanced Diet\", \"text\": \"Include a variety of fruits, vegetables, whole grains, and lean proteins in your diet to ensure you get all essential nutrients.\"}\n",
        "    ]\n",
        "\n",
        "    return render_template('home.html', health_tips=health_tips)\n",
        "\n",
        "@app.route('/get_hospitals', methods=['POST'])\n",
        "def get_hospitals():\n",
        "    data = request.get_json()\n",
        "    latitude = data.get('latitude')\n",
        "    longitude = data.get('longitude')\n",
        "    radius = 5000  # Search radius in meters\n",
        "\n",
        "    # geoapify API request\n",
        "    places_url = f\"https://api.geoapify.com/v2/places?categories=healthcare&filter=circle:{longitude},{latitude},{radius}&limit=10&apiKey={PLACES_API_KEY}\"\n",
        "    response = requests.get(places_url)\n",
        "    if response.status_code != 200:\n",
        "        flash(f\"Not able to find nearby hospitals due to {response.json()['message']}\", 'warning')\n",
        "\n",
        "    places_data = response.json()\n",
        "\n",
        "    hospitals = []\n",
        "    for place in places_data.get('features', []):\n",
        "        details=place['properties']\n",
        "        c_no='N/A'\n",
        "        if \"contact\" in list(details.keys()):\n",
        "            c_no=details[\"contact\"][\"phone\"]\n",
        "        hospitals.append({\n",
        "            'Name': details.get('name'),\n",
        "            'Address': details.get('formatted'),\n",
        "            'Phone Number': c_no,\n",
        "            'Website':details.get('website','N/A'),\n",
        "            'Opening hours':details.get('opening_hours','N/A')\n",
        "        })\n",
        "\n",
        "    return jsonify({'hospitals': hospitals})\n",
        "\n",
        "\n",
        "@app.route('/chatbot')\n",
        "def chatbot():\n",
        "    return render_template('chat_bot.html')\n",
        "\n",
        "# Route to handle message input and optional file upload\n",
        "@app.route('/send_message', methods=['POST'])\n",
        "def send_message():\n",
        "    message = request.form.get('message')  # Get the text input from the user\n",
        "    file = request.files.get('file')  # Get the file if any\n",
        "\n",
        "    file_content,combined_message = \"\",\"\"\n",
        "\n",
        "    # If a file is uploaded, process it based on its type\n",
        "    if file:\n",
        "        filename = file.filename\n",
        "        if filename.endswith('.txt'):\n",
        "            file_content = read_txt(file)\n",
        "        elif filename.endswith('.pdf'):\n",
        "            file_content = read_pdf(file)\n",
        "        elif filename.endswith('.docx'):\n",
        "            file_content = read_docx(file)\n",
        "        else:\n",
        "            return jsonify({'reply': 'Unsupported file type'})\n",
        "\n",
        "    # Combine user message and file content (if any) before passing to LLM\n",
        "    if len(file_content)!=0:\n",
        "        combined_message = f\"\\n\\nFile Content:\\n'{file_content}' from this content answer this question '{message}'\"\n",
        "\n",
        "    response = {}  # Initialize a response dictionary\n",
        "\n",
        "    # Generate a response for the message\n",
        "    if len(combined_message)!=0 and qa:\n",
        "      result = qa.invoke({\"query\":combined_message})\n",
        "      response['reply'] = result[\"result\"]\n",
        "    elif qa:\n",
        "      result=qa.invoke({\"query\":message})\n",
        "      response['reply'] = result[\"result\"]\n",
        "    else:\n",
        "      response['reply'] = \"No response available\"\n",
        "\n",
        "    # Handle file upload if a file was uploaded\n",
        "    if file and allowed_file(file.filename):\n",
        "        filename = secure_filename(file.filename)\n",
        "        file.save(os.path.join(app.config['UPLOAD_FOLDER'], filename))\n",
        "        response['file_info'] = f\"File {filename} uploaded successfully.\"\n",
        "    return jsonify(response)\n",
        "\n",
        "\n",
        "# Example usage for benchmarking\n",
        "if __name__ == \"__main__\":\n",
        "    benchmark = MedicalQABenchmark()\n",
        "\n",
        "    # Emergency medical queries for testing\n",
        "    test_queries = [\n",
        "        \"What are the immediate steps for treating anaphylactic shock?\",\n",
        "        \"What's the protocol for treating a suspected heart attack?\",\n",
        "        \"How do I identify and respond to a stroke (FAST protocol)?\",\n",
        "        \"What's the emergency procedure for severe bleeding?\",\n",
        "        \"How do I perform CPR correctly?\"\n",
        "    ]\n",
        "\n",
        "    results = benchmark.benchmark_queries(test_queries)\n",
        "\n",
        "    print(\"\\nBenchmark Results:\")\n",
        "    print(f\"GPT-3.5 Average Response Time: {results['gpt']['avg_time']:.2f} seconds\")\n",
        "    print(f\"Cerebras Average Response Time: {results['cerebras']['avg_time']:.2f} seconds\")\n",
        "    print(f\"Speed Improvement: {results['improvement']['avg_speedup']*100:.1f}%\")\n",
        "    print(f\"Best Case Improvement: {results['improvement']['best_case_speedup']*100:.1f}%\")\n",
        "\n",
        "\n",
        "# Function to run Flask app\n",
        "def run_flask():\n",
        "    app.run(port=5000)\n",
        "\n",
        "\n",
        "\n",
        "# Expose the Colab environment via ngrok\n",
        "public_url = ngrok.connect(5000)\n",
        "print(f\"Your Flask app is available at {public_url}\")\n",
        "\n",
        "# Start Flask app in the background\n",
        "thread = threading.Thread(target=run_flask)\n",
        "thread.start()"
      ]
    }
  ],
  "metadata": {
    "accelerator": "GPU",
    "colab": {
      "collapsed_sections": [
        "r1TWxwhTJJ9N"
      ],
      "gpuType": "T4",
      "provenance": []
    },
    "kernelspec": {
      "display_name": "Python 3",
      "name": "python3"
    },
    "language_info": {
      "name": "python"
    }
  },
  "nbformat": 4,
  "nbformat_minor": 0
}
